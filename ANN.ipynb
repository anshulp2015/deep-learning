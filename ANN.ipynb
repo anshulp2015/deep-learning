{
 "cells": [
  {
   "cell_type": "code",
   "execution_count": 1,
   "metadata": {
    "collapsed": true
   },
   "outputs": [],
   "source": [
    "# Artificial Neural Network"
   ]
  },
  {
   "cell_type": "code",
   "execution_count": 19,
   "metadata": {},
   "outputs": [],
   "source": [
    "import numpy as np\n",
    "import matplotlib.pyplot as plt\n",
    "import pandas as pd\n",
    "from keras.models import Sequential\n",
    "from keras.layers import Dense\n",
    "from sklearn.preprocessing import LabelEncoder, OneHotEncoder\n",
    "from sklearn.preprocessing import StandardScaler\n",
    "from sklearn.model_selection import train_test_split"
   ]
  },
  {
   "cell_type": "code",
   "execution_count": 5,
   "metadata": {},
   "outputs": [
    {
     "data": {
      "text/html": [
       "<div>\n",
       "<style>\n",
       "    .dataframe thead tr:only-child th {\n",
       "        text-align: right;\n",
       "    }\n",
       "\n",
       "    .dataframe thead th {\n",
       "        text-align: left;\n",
       "    }\n",
       "\n",
       "    .dataframe tbody tr th {\n",
       "        vertical-align: top;\n",
       "    }\n",
       "</style>\n",
       "<table border=\"1\" class=\"dataframe\">\n",
       "  <thead>\n",
       "    <tr style=\"text-align: right;\">\n",
       "      <th></th>\n",
       "      <th>RowNumber</th>\n",
       "      <th>CustomerId</th>\n",
       "      <th>Surname</th>\n",
       "      <th>CreditScore</th>\n",
       "      <th>Geography</th>\n",
       "      <th>Gender</th>\n",
       "      <th>Age</th>\n",
       "      <th>Tenure</th>\n",
       "      <th>Balance</th>\n",
       "      <th>NumOfProducts</th>\n",
       "      <th>HasCrCard</th>\n",
       "      <th>IsActiveMember</th>\n",
       "      <th>EstimatedSalary</th>\n",
       "      <th>Exited</th>\n",
       "    </tr>\n",
       "  </thead>\n",
       "  <tbody>\n",
       "    <tr>\n",
       "      <th>0</th>\n",
       "      <td>1</td>\n",
       "      <td>15634602</td>\n",
       "      <td>Hargrave</td>\n",
       "      <td>619</td>\n",
       "      <td>France</td>\n",
       "      <td>Female</td>\n",
       "      <td>42</td>\n",
       "      <td>2</td>\n",
       "      <td>0.00</td>\n",
       "      <td>1</td>\n",
       "      <td>1</td>\n",
       "      <td>1</td>\n",
       "      <td>101348.88</td>\n",
       "      <td>1</td>\n",
       "    </tr>\n",
       "    <tr>\n",
       "      <th>1</th>\n",
       "      <td>2</td>\n",
       "      <td>15647311</td>\n",
       "      <td>Hill</td>\n",
       "      <td>608</td>\n",
       "      <td>Spain</td>\n",
       "      <td>Female</td>\n",
       "      <td>41</td>\n",
       "      <td>1</td>\n",
       "      <td>83807.86</td>\n",
       "      <td>1</td>\n",
       "      <td>0</td>\n",
       "      <td>1</td>\n",
       "      <td>112542.58</td>\n",
       "      <td>0</td>\n",
       "    </tr>\n",
       "    <tr>\n",
       "      <th>2</th>\n",
       "      <td>3</td>\n",
       "      <td>15619304</td>\n",
       "      <td>Onio</td>\n",
       "      <td>502</td>\n",
       "      <td>France</td>\n",
       "      <td>Female</td>\n",
       "      <td>42</td>\n",
       "      <td>8</td>\n",
       "      <td>159660.80</td>\n",
       "      <td>3</td>\n",
       "      <td>1</td>\n",
       "      <td>0</td>\n",
       "      <td>113931.57</td>\n",
       "      <td>1</td>\n",
       "    </tr>\n",
       "    <tr>\n",
       "      <th>3</th>\n",
       "      <td>4</td>\n",
       "      <td>15701354</td>\n",
       "      <td>Boni</td>\n",
       "      <td>699</td>\n",
       "      <td>France</td>\n",
       "      <td>Female</td>\n",
       "      <td>39</td>\n",
       "      <td>1</td>\n",
       "      <td>0.00</td>\n",
       "      <td>2</td>\n",
       "      <td>0</td>\n",
       "      <td>0</td>\n",
       "      <td>93826.63</td>\n",
       "      <td>0</td>\n",
       "    </tr>\n",
       "    <tr>\n",
       "      <th>4</th>\n",
       "      <td>5</td>\n",
       "      <td>15737888</td>\n",
       "      <td>Mitchell</td>\n",
       "      <td>850</td>\n",
       "      <td>Spain</td>\n",
       "      <td>Female</td>\n",
       "      <td>43</td>\n",
       "      <td>2</td>\n",
       "      <td>125510.82</td>\n",
       "      <td>1</td>\n",
       "      <td>1</td>\n",
       "      <td>1</td>\n",
       "      <td>79084.10</td>\n",
       "      <td>0</td>\n",
       "    </tr>\n",
       "  </tbody>\n",
       "</table>\n",
       "</div>"
      ],
      "text/plain": [
       "   RowNumber  CustomerId   Surname  CreditScore Geography  Gender  Age  \\\n",
       "0          1    15634602  Hargrave          619    France  Female   42   \n",
       "1          2    15647311      Hill          608     Spain  Female   41   \n",
       "2          3    15619304      Onio          502    France  Female   42   \n",
       "3          4    15701354      Boni          699    France  Female   39   \n",
       "4          5    15737888  Mitchell          850     Spain  Female   43   \n",
       "\n",
       "   Tenure    Balance  NumOfProducts  HasCrCard  IsActiveMember  \\\n",
       "0       2       0.00              1          1               1   \n",
       "1       1   83807.86              1          0               1   \n",
       "2       8  159660.80              3          1               0   \n",
       "3       1       0.00              2          0               0   \n",
       "4       2  125510.82              1          1               1   \n",
       "\n",
       "   EstimatedSalary  Exited  \n",
       "0        101348.88       1  \n",
       "1        112542.58       0  \n",
       "2        113931.57       1  \n",
       "3         93826.63       0  \n",
       "4         79084.10       0  "
      ]
     },
     "execution_count": 5,
     "metadata": {},
     "output_type": "execute_result"
    }
   ],
   "source": [
    "data = pd.read_csv('Churn_Modelling.csv')\n",
    "data.head()"
   ]
  },
  {
   "cell_type": "code",
   "execution_count": 16,
   "metadata": {
    "collapsed": true
   },
   "outputs": [],
   "source": [
    "X = data.iloc[:, 3:-1].values\n",
    "y = data['Exited']"
   ]
  },
  {
   "cell_type": "code",
   "execution_count": 17,
   "metadata": {},
   "outputs": [
    {
     "data": {
      "text/plain": [
       "(10000, 10)"
      ]
     },
     "execution_count": 17,
     "metadata": {},
     "output_type": "execute_result"
    }
   ],
   "source": [
    "X.shape"
   ]
  },
  {
   "cell_type": "code",
   "execution_count": 8,
   "metadata": {},
   "outputs": [
    {
     "data": {
      "text/plain": [
       "(10000,)"
      ]
     },
     "execution_count": 8,
     "metadata": {},
     "output_type": "execute_result"
    }
   ],
   "source": [
    "y.shape"
   ]
  },
  {
   "cell_type": "code",
   "execution_count": 9,
   "metadata": {},
   "outputs": [
    {
     "data": {
      "text/plain": [
       "RowNumber          0\n",
       "CustomerId         0\n",
       "Surname            0\n",
       "CreditScore        0\n",
       "Geography          0\n",
       "Gender             0\n",
       "Age                0\n",
       "Tenure             0\n",
       "Balance            0\n",
       "NumOfProducts      0\n",
       "HasCrCard          0\n",
       "IsActiveMember     0\n",
       "EstimatedSalary    0\n",
       "Exited             0\n",
       "dtype: int64"
      ]
     },
     "execution_count": 9,
     "metadata": {},
     "output_type": "execute_result"
    }
   ],
   "source": [
    "# Check for null values\n",
    "data.isnull().sum()"
   ]
  },
  {
   "cell_type": "code",
   "execution_count": 23,
   "metadata": {},
   "outputs": [
    {
     "data": {
      "text/plain": [
       "array([[  1.00000000e+00,   0.00000000e+00,   0.00000000e+00, ...,\n",
       "          1.00000000e+00,   1.00000000e+00,   1.01348880e+05],\n",
       "       [  0.00000000e+00,   0.00000000e+00,   1.00000000e+00, ...,\n",
       "          0.00000000e+00,   1.00000000e+00,   1.12542580e+05],\n",
       "       [  1.00000000e+00,   0.00000000e+00,   0.00000000e+00, ...,\n",
       "          1.00000000e+00,   0.00000000e+00,   1.13931570e+05],\n",
       "       ..., \n",
       "       [  1.00000000e+00,   0.00000000e+00,   0.00000000e+00, ...,\n",
       "          0.00000000e+00,   1.00000000e+00,   4.20855800e+04],\n",
       "       [  0.00000000e+00,   1.00000000e+00,   0.00000000e+00, ...,\n",
       "          1.00000000e+00,   0.00000000e+00,   9.28885200e+04],\n",
       "       [  1.00000000e+00,   0.00000000e+00,   0.00000000e+00, ...,\n",
       "          1.00000000e+00,   0.00000000e+00,   3.81907800e+04]])"
      ]
     },
     "execution_count": 23,
     "metadata": {},
     "output_type": "execute_result"
    }
   ],
   "source": [
    "# Encoding the categorical variables\n",
    "encoder_1 = LabelEncoder()\n",
    "X[:, 1] = encoder_1.fit_transform(X[:, 1])\n",
    "encoder_2 = LabelEncoder()\n",
    "X[:, 2] = encoder_2.fit_transform(X[:, 2])\n",
    "\n",
    "ohe = OneHotEncoder(categorical_features = [1])\n",
    "X = ohe.fit_transform(X).toarray()\n",
    "X"
   ]
  },
  {
   "cell_type": "code",
   "execution_count": 24,
   "metadata": {
    "collapsed": true
   },
   "outputs": [],
   "source": [
    "# Avoiding the dummy variable trap\n",
    "X = X[:, 1:]"
   ]
  },
  {
   "cell_type": "code",
   "execution_count": 25,
   "metadata": {
    "collapsed": true
   },
   "outputs": [],
   "source": [
    "# Splitting the dataset into the training and test set\n",
    "X_train, X_test, y_train, y_test = train_test_split(X, y, test_size = 0.2, random_state = 0)"
   ]
  },
  {
   "cell_type": "code",
   "execution_count": 26,
   "metadata": {},
   "outputs": [],
   "source": [
    "# Feature scaling\n",
    "sc_X = StandardScaler()\n",
    "X_train = sc_X.fit_transform(X_train)\n",
    "X_test = sc_X.transform(X_test)"
   ]
  },
  {
   "cell_type": "code",
   "execution_count": 29,
   "metadata": {
    "collapsed": true
   },
   "outputs": [],
   "source": [
    "# Making the classifier\n",
    "# Defining the model architecture\n",
    "# Initializing the ANN\n",
    "clf = Sequential()"
   ]
  },
  {
   "cell_type": "code",
   "execution_count": 30,
   "metadata": {
    "collapsed": true
   },
   "outputs": [],
   "source": [
    "# Adding the input and the first hidden layer\n",
    "clf.add(Dense(6, activation = 'relu', input_shape = (11,)))\n",
    "\n",
    "# Adding the second hidden layer\n",
    "clf.add(Dense(6, activation = 'relu'))\n",
    "\n",
    "# Adding the output layer\n",
    "clf.add(Dense(1, activation = 'sigmoid'))"
   ]
  },
  {
   "cell_type": "code",
   "execution_count": 31,
   "metadata": {
    "collapsed": true
   },
   "outputs": [],
   "source": [
    "# Compiling the ANN\n",
    "# Applying mini batch gradient descent i.e., the weights will be updated after given observations\n",
    "clf.compile(optimizer = 'adam', loss = 'binary_crossentropy', metrics = ['accuracy'])"
   ]
  },
  {
   "cell_type": "code",
   "execution_count": 32,
   "metadata": {},
   "outputs": [
    {
     "name": "stdout",
     "output_type": "stream",
     "text": [
      "Epoch 1/100\n",
      "8000/8000 [==============================] - 6s - loss: 0.5352 - acc: 0.7852     \n",
      "Epoch 2/100\n",
      "8000/8000 [==============================] - 1s - loss: 0.4578 - acc: 0.7977     \n",
      "Epoch 3/100\n",
      "8000/8000 [==============================] - 1s - loss: 0.4304 - acc: 0.8066     \n",
      "Epoch 4/100\n",
      "8000/8000 [==============================] - 1s - loss: 0.4119 - acc: 0.8154     \n",
      "Epoch 5/100\n",
      "8000/8000 [==============================] - 1s - loss: 0.3953 - acc: 0.8277     \n",
      "Epoch 6/100\n",
      "8000/8000 [==============================] - 1s - loss: 0.3795 - acc: 0.8409     \n",
      "Epoch 7/100\n",
      "8000/8000 [==============================] - 1s - loss: 0.3685 - acc: 0.8462     \n",
      "Epoch 8/100\n",
      "8000/8000 [==============================] - 1s - loss: 0.3611 - acc: 0.8514     \n",
      "Epoch 9/100\n",
      "8000/8000 [==============================] - 1s - loss: 0.3568 - acc: 0.8534     \n",
      "Epoch 10/100\n",
      "8000/8000 [==============================] - 1s - loss: 0.3537 - acc: 0.8575     \n",
      "Epoch 11/100\n",
      "8000/8000 [==============================] - 1s - loss: 0.3502 - acc: 0.8579     \n",
      "Epoch 12/100\n",
      "8000/8000 [==============================] - 1s - loss: 0.3482 - acc: 0.8591     \n",
      "Epoch 13/100\n",
      "8000/8000 [==============================] - 1s - loss: 0.3459 - acc: 0.8586     \n",
      "Epoch 14/100\n",
      "8000/8000 [==============================] - 1s - loss: 0.3442 - acc: 0.8609     \n",
      "Epoch 15/100\n",
      "8000/8000 [==============================] - 1s - loss: 0.3438 - acc: 0.8590     \n",
      "Epoch 16/100\n",
      "8000/8000 [==============================] - 1s - loss: 0.3425 - acc: 0.8609     \n",
      "Epoch 17/100\n",
      "8000/8000 [==============================] - 1s - loss: 0.3419 - acc: 0.8615     \n",
      "Epoch 18/100\n",
      "8000/8000 [==============================] - 0s - loss: 0.3413 - acc: 0.8597     \n",
      "Epoch 19/100\n",
      "8000/8000 [==============================] - 1s - loss: 0.3407 - acc: 0.8610     \n",
      "Epoch 20/100\n",
      "8000/8000 [==============================] - 0s - loss: 0.3404 - acc: 0.8616     \n",
      "Epoch 21/100\n",
      "8000/8000 [==============================] - 0s - loss: 0.3402 - acc: 0.8601     \n",
      "Epoch 22/100\n",
      "8000/8000 [==============================] - 0s - loss: 0.3393 - acc: 0.8626     \n",
      "Epoch 23/100\n",
      "8000/8000 [==============================] - 1s - loss: 0.3388 - acc: 0.8620     \n",
      "Epoch 24/100\n",
      "8000/8000 [==============================] - 1s - loss: 0.3384 - acc: 0.8636     \n",
      "Epoch 25/100\n",
      "8000/8000 [==============================] - 1s - loss: 0.3382 - acc: 0.8615     - ETA: 0s - loss: 0.3398\n",
      "Epoch 26/100\n",
      "8000/8000 [==============================] - 1s - loss: 0.3379 - acc: 0.8632     - ETA: 0s - loss: 0.3378 - acc\n",
      "Epoch 27/100\n",
      "8000/8000 [==============================] - 0s - loss: 0.3378 - acc: 0.8636     \n",
      "Epoch 28/100\n",
      "8000/8000 [==============================] - 0s - loss: 0.3375 - acc: 0.8634     \n",
      "Epoch 29/100\n",
      "8000/8000 [==============================] - 0s - loss: 0.3372 - acc: 0.8635     \n",
      "Epoch 30/100\n",
      "8000/8000 [==============================] - 1s - loss: 0.3369 - acc: 0.8634     - ETA: 0s - loss: 0.3396 - acc: 0.86\n",
      "Epoch 31/100\n",
      "8000/8000 [==============================] - 1s - loss: 0.3368 - acc: 0.8644     \n",
      "Epoch 32/100\n",
      "8000/8000 [==============================] - 0s - loss: 0.3365 - acc: 0.8631     \n",
      "Epoch 33/100\n",
      "8000/8000 [==============================] - 0s - loss: 0.3361 - acc: 0.8639     \n",
      "Epoch 34/100\n",
      "8000/8000 [==============================] - 0s - loss: 0.3359 - acc: 0.8637     \n",
      "Epoch 35/100\n",
      "8000/8000 [==============================] - 1s - loss: 0.3356 - acc: 0.8636     \n",
      "Epoch 36/100\n",
      "8000/8000 [==============================] - 1s - loss: 0.3351 - acc: 0.8641     - ETA: 1s - \n",
      "Epoch 37/100\n",
      "8000/8000 [==============================] - 1s - loss: 0.3350 - acc: 0.8630     \n",
      "Epoch 38/100\n",
      "8000/8000 [==============================] - 1s - loss: 0.3348 - acc: 0.8634     \n",
      "Epoch 39/100\n",
      "8000/8000 [==============================] - 1s - loss: 0.3347 - acc: 0.8626     \n",
      "Epoch 40/100\n",
      "8000/8000 [==============================] - 1s - loss: 0.3344 - acc: 0.8644     \n",
      "Epoch 41/100\n",
      "8000/8000 [==============================] - 1s - loss: 0.3344 - acc: 0.8646     \n",
      "Epoch 42/100\n",
      "8000/8000 [==============================] - 1s - loss: 0.3341 - acc: 0.8646     \n",
      "Epoch 43/100\n",
      "8000/8000 [==============================] - 1s - loss: 0.3342 - acc: 0.8632     \n",
      "Epoch 44/100\n",
      "8000/8000 [==============================] - 1s - loss: 0.3337 - acc: 0.8617     \n",
      "Epoch 45/100\n",
      "8000/8000 [==============================] - 1s - loss: 0.3336 - acc: 0.8636     \n",
      "Epoch 46/100\n",
      "8000/8000 [==============================] - 1s - loss: 0.3336 - acc: 0.8649     \n",
      "Epoch 47/100\n",
      "8000/8000 [==============================] - 0s - loss: 0.3332 - acc: 0.8640     \n",
      "Epoch 48/100\n",
      "8000/8000 [==============================] - 1s - loss: 0.3327 - acc: 0.8649     \n",
      "Epoch 49/100\n",
      "8000/8000 [==============================] - 1s - loss: 0.3330 - acc: 0.8635     \n",
      "Epoch 50/100\n",
      "8000/8000 [==============================] - 1s - loss: 0.3325 - acc: 0.8619     \n",
      "Epoch 51/100\n",
      "8000/8000 [==============================] - 1s - loss: 0.3323 - acc: 0.8639     - ETA: 1s -\n",
      "Epoch 52/100\n",
      "8000/8000 [==============================] - 1s - loss: 0.3319 - acc: 0.8656     \n",
      "Epoch 53/100\n",
      "8000/8000 [==============================] - 1s - loss: 0.3319 - acc: 0.8644     \n",
      "Epoch 54/100\n",
      "8000/8000 [==============================] - 1s - loss: 0.3319 - acc: 0.8649     \n",
      "Epoch 55/100\n",
      "8000/8000 [==============================] - 1s - loss: 0.3318 - acc: 0.8649     \n",
      "Epoch 56/100\n",
      "8000/8000 [==============================] - 1s - loss: 0.3314 - acc: 0.8629     \n",
      "Epoch 57/100\n",
      "8000/8000 [==============================] - 1s - loss: 0.3309 - acc: 0.8641     \n",
      "Epoch 58/100\n",
      "8000/8000 [==============================] - 1s - loss: 0.3308 - acc: 0.8621     \n",
      "Epoch 59/100\n",
      "8000/8000 [==============================] - 1s - loss: 0.3309 - acc: 0.8652     \n",
      "Epoch 60/100\n",
      "8000/8000 [==============================] - 1s - loss: 0.3304 - acc: 0.8642     \n",
      "Epoch 61/100\n",
      "8000/8000 [==============================] - 1s - loss: 0.3311 - acc: 0.8642     \n",
      "Epoch 62/100\n",
      "8000/8000 [==============================] - 1s - loss: 0.3295 - acc: 0.8637     \n",
      "Epoch 63/100\n",
      "8000/8000 [==============================] - 1s - loss: 0.3300 - acc: 0.8647     \n",
      "Epoch 64/100\n",
      "8000/8000 [==============================] - 1s - loss: 0.3298 - acc: 0.8642     \n",
      "Epoch 65/100\n",
      "8000/8000 [==============================] - 1s - loss: 0.3300 - acc: 0.8651     \n",
      "Epoch 66/100\n",
      "8000/8000 [==============================] - 1s - loss: 0.3294 - acc: 0.8652     \n",
      "Epoch 67/100\n",
      "8000/8000 [==============================] - 1s - loss: 0.3295 - acc: 0.8656     \n",
      "Epoch 68/100\n",
      "8000/8000 [==============================] - 1s - loss: 0.3289 - acc: 0.8652     \n",
      "Epoch 69/100\n",
      "8000/8000 [==============================] - 1s - loss: 0.3287 - acc: 0.8657     \n",
      "Epoch 70/100\n",
      "8000/8000 [==============================] - 1s - loss: 0.3292 - acc: 0.8657     \n",
      "Epoch 71/100\n",
      "8000/8000 [==============================] - 1s - loss: 0.3286 - acc: 0.8654     \n",
      "Epoch 72/100\n",
      "8000/8000 [==============================] - 1s - loss: 0.3285 - acc: 0.8674     \n",
      "Epoch 73/100\n",
      "8000/8000 [==============================] - 1s - loss: 0.3284 - acc: 0.8657     \n",
      "Epoch 74/100\n",
      "8000/8000 [==============================] - 1s - loss: 0.3285 - acc: 0.8662     \n",
      "Epoch 75/100\n",
      "8000/8000 [==============================] - 1s - loss: 0.3281 - acc: 0.8664     \n",
      "Epoch 76/100\n",
      "8000/8000 [==============================] - 1s - loss: 0.3279 - acc: 0.8656     \n",
      "Epoch 77/100\n",
      "8000/8000 [==============================] - 0s - loss: 0.3280 - acc: 0.8652     \n",
      "Epoch 78/100\n",
      "8000/8000 [==============================] - 0s - loss: 0.3278 - acc: 0.8671     \n",
      "Epoch 79/100\n",
      "8000/8000 [==============================] - 0s - loss: 0.3277 - acc: 0.8664     \n",
      "Epoch 80/100\n",
      "8000/8000 [==============================] - 1s - loss: 0.3278 - acc: 0.8656     \n",
      "Epoch 81/100\n",
      "8000/8000 [==============================] - 0s - loss: 0.3273 - acc: 0.8652     \n",
      "Epoch 82/100\n",
      "8000/8000 [==============================] - 0s - loss: 0.3276 - acc: 0.8649     \n",
      "Epoch 83/100\n",
      "8000/8000 [==============================] - 1s - loss: 0.3273 - acc: 0.8661     \n",
      "Epoch 84/100\n",
      "8000/8000 [==============================] - 1s - loss: 0.3269 - acc: 0.8650     \n",
      "Epoch 85/100\n",
      "8000/8000 [==============================] - 1s - loss: 0.3270 - acc: 0.8651     \n",
      "Epoch 86/100\n"
     ]
    },
    {
     "name": "stdout",
     "output_type": "stream",
     "text": [
      "8000/8000 [==============================] - 1s - loss: 0.3271 - acc: 0.8652     \n",
      "Epoch 87/100\n",
      "8000/8000 [==============================] - 1s - loss: 0.3269 - acc: 0.8669     \n",
      "Epoch 88/100\n",
      "8000/8000 [==============================] - 1s - loss: 0.3266 - acc: 0.8674     \n",
      "Epoch 89/100\n",
      "8000/8000 [==============================] - 1s - loss: 0.3268 - acc: 0.8667     \n",
      "Epoch 90/100\n",
      "8000/8000 [==============================] - 1s - loss: 0.3261 - acc: 0.8670     \n",
      "Epoch 91/100\n",
      "8000/8000 [==============================] - 1s - loss: 0.3271 - acc: 0.8641     \n",
      "Epoch 92/100\n",
      "8000/8000 [==============================] - 1s - loss: 0.3268 - acc: 0.8662     \n",
      "Epoch 93/100\n",
      "8000/8000 [==============================] - 1s - loss: 0.3268 - acc: 0.8660     \n",
      "Epoch 94/100\n",
      "8000/8000 [==============================] - 1s - loss: 0.3266 - acc: 0.8661     \n",
      "Epoch 95/100\n",
      "8000/8000 [==============================] - 1s - loss: 0.3266 - acc: 0.8671     \n",
      "Epoch 96/100\n",
      "8000/8000 [==============================] - 1s - loss: 0.3271 - acc: 0.8661     \n",
      "Epoch 97/100\n",
      "8000/8000 [==============================] - 1s - loss: 0.3265 - acc: 0.8667     \n",
      "Epoch 98/100\n",
      "8000/8000 [==============================] - 1s - loss: 0.3262 - acc: 0.8674     \n",
      "Epoch 99/100\n",
      "8000/8000 [==============================] - 1s - loss: 0.3263 - acc: 0.8646     \n",
      "Epoch 100/100\n",
      "8000/8000 [==============================] - 1s - loss: 0.3261 - acc: 0.8666     \n"
     ]
    },
    {
     "data": {
      "text/plain": [
       "<keras.callbacks.History at 0x14004b139b0>"
      ]
     },
     "execution_count": 32,
     "metadata": {},
     "output_type": "execute_result"
    }
   ],
   "source": [
    "# Fitting the ANN\n",
    "clf.fit(X_train, y_train, batch_size = 10, epochs = 100)"
   ]
  },
  {
   "cell_type": "code",
   "execution_count": 36,
   "metadata": {},
   "outputs": [],
   "source": [
    "y_pred = clf.predict(X_test)\n",
    "y_pred = (y_pred > 0.5)"
   ]
  },
  {
   "cell_type": "code",
   "execution_count": 37,
   "metadata": {},
   "outputs": [
    {
     "data": {
      "text/plain": [
       "array([[1502,   93],\n",
       "       [ 190,  215]], dtype=int64)"
      ]
     },
     "execution_count": 37,
     "metadata": {},
     "output_type": "execute_result"
    }
   ],
   "source": [
    "from sklearn.metrics import confusion_matrix\n",
    "cm = confusion_matrix(y_test, y_pred)\n",
    "cm"
   ]
  },
  {
   "cell_type": "code",
   "execution_count": 38,
   "metadata": {},
   "outputs": [
    {
     "data": {
      "text/plain": [
       "0.8585"
      ]
     },
     "execution_count": 38,
     "metadata": {},
     "output_type": "execute_result"
    }
   ],
   "source": [
    "# Accuracy\n",
    "(1502 + 215)/2000"
   ]
  },
  {
   "cell_type": "code",
   "execution_count": null,
   "metadata": {
    "collapsed": true
   },
   "outputs": [],
   "source": []
  }
 ],
 "metadata": {
  "kernelspec": {
   "display_name": "Python 3",
   "language": "python",
   "name": "python3"
  },
  "language_info": {
   "codemirror_mode": {
    "name": "ipython",
    "version": 3
   },
   "file_extension": ".py",
   "mimetype": "text/x-python",
   "name": "python",
   "nbconvert_exporter": "python",
   "pygments_lexer": "ipython3",
   "version": "3.5.4"
  }
 },
 "nbformat": 4,
 "nbformat_minor": 2
}
